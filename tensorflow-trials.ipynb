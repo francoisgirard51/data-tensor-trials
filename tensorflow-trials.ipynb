{
 "cells": [
  {
   "cell_type": "markdown",
   "id": "a2a2ec1e",
   "metadata": {},
   "source": [
    "## The Tensorflow Trials"
   ]
  },
  {
   "cell_type": "markdown",
   "id": "a7b864b2",
   "metadata": {},
   "source": [
    "For much of the past week, you've been using tensors with your Deep Learning models. Over the course of today's challenges, you'll be manipulating tensors extensively and working with some unconventional model architectures. \n",
    "\n",
    "\n",
    "In this warm up, you'll be introduced to some new methods. \n",
    "\n",
    "All the methods here are going to make tackling challenges later in the day 100x easier, so if you do get stuck later on, make sure you come back here to see how you achieved the right answers. "
   ]
  },
  {
   "cell_type": "code",
   "execution_count": 1,
   "id": "078e5338",
   "metadata": {},
   "outputs": [
    {
     "name": "stderr",
     "output_type": "stream",
     "text": [
      "2023-11-29 20:13:59.630156: I tensorflow/core/platform/cpu_feature_guard.cc:193] This TensorFlow binary is optimized with oneAPI Deep Neural Network Library (oneDNN) to use the following CPU instructions in performance-critical operations:  AVX2 FMA\n",
      "To enable them in other operations, rebuild TensorFlow with the appropriate compiler flags.\n"
     ]
    }
   ],
   "source": [
    "import tensorflow as tf"
   ]
  },
  {
   "cell_type": "markdown",
   "id": "b13ebc8c",
   "metadata": {},
   "source": [
    "A) Use `tf.ones` to create a tensor `a` filled with ones of shape (3,3)."
   ]
  },
  {
   "cell_type": "code",
   "execution_count": 2,
   "id": "0255afe9",
   "metadata": {},
   "outputs": [
    {
     "name": "stderr",
     "output_type": "stream",
     "text": [
      "2023-11-29 20:17:40.078543: I tensorflow/core/platform/cpu_feature_guard.cc:193] This TensorFlow binary is optimized with oneAPI Deep Neural Network Library (oneDNN) to use the following CPU instructions in performance-critical operations:  AVX2 FMA\n",
      "To enable them in other operations, rebuild TensorFlow with the appropriate compiler flags.\n"
     ]
    }
   ],
   "source": [
    "a = tf.ones((3, 3))"
   ]
  },
  {
   "cell_type": "markdown",
   "id": "100986da",
   "metadata": {},
   "source": [
    "B) Use tf.expand_dims to make `a` an object of shape (1,3,3) called `b`."
   ]
  },
  {
   "cell_type": "code",
   "execution_count": 3,
   "id": "e14ac6e5",
   "metadata": {},
   "outputs": [],
   "source": [
    "b = tf.expand_dims(a, axis=0)"
   ]
  },
  {
   "cell_type": "markdown",
   "id": "7f3db8f2",
   "metadata": {},
   "source": [
    "C) Create a tensor `c` filled with zeroes of size (9,1)"
   ]
  },
  {
   "cell_type": "code",
   "execution_count": 4,
   "id": "057c15ef",
   "metadata": {},
   "outputs": [],
   "source": [
    "c = tf.zeros((9, 1))"
   ]
  },
  {
   "cell_type": "markdown",
   "id": "da0679ed",
   "metadata": {},
   "source": [
    "D) Reshape `c` to be of shape (1, 3, 3). Name it `d`."
   ]
  },
  {
   "cell_type": "code",
   "execution_count": 5,
   "id": "ba32b2c8",
   "metadata": {},
   "outputs": [],
   "source": [
    "d = tf.reshape(c, (1, 3, 3))"
   ]
  },
  {
   "cell_type": "markdown",
   "id": "15a234cc",
   "metadata": {},
   "source": [
    "E) Use `tf.matmul` to matrix multiply `b` and `d` with each other and now assign the tensor to `e`. "
   ]
  },
  {
   "cell_type": "code",
   "execution_count": 6,
   "id": "85e03f93",
   "metadata": {},
   "outputs": [],
   "source": [
    "e = tf.matmul(b, d)"
   ]
  },
  {
   "cell_type": "markdown",
   "id": "0a1ddf87",
   "metadata": {},
   "source": [
    "F) Below is a `numpy` array. Convert it to a tensor named `array_tensor`. Then use `tf.cast` to ensure it is of dtype `float` not `int`. Assign the result to `f`."
   ]
  },
  {
   "cell_type": "code",
   "execution_count": 7,
   "id": "edff9160",
   "metadata": {},
   "outputs": [],
   "source": [
    "import numpy as np"
   ]
  },
  {
   "cell_type": "code",
   "execution_count": 8,
   "id": "b5037b3c",
   "metadata": {},
   "outputs": [],
   "source": [
    "array = np.array([[\n",
    "    [1,2,3],\n",
    "    [1,2,3],\n",
    "    [4,5,6],\n",
    "    [7,8,9]\n",
    "]])"
   ]
  },
  {
   "cell_type": "code",
   "execution_count": 9,
   "id": "0844c4cc",
   "metadata": {},
   "outputs": [],
   "source": [
    "array_tensor = tf.convert_to_tensor(array)\n",
    "f = tf.cast(array_tensor, dtype=tf.float32)"
   ]
  },
  {
   "cell_type": "markdown",
   "id": "6df5b6fc",
   "metadata": {},
   "source": [
    "G) Select the values in the __last column__ of `f` and save this to `g`. To be clear, `g` should have shape (4,) and contain the values `3,3,6,9`. "
   ]
  },
  {
   "cell_type": "code",
   "execution_count": 10,
   "id": "73ee6c15",
   "metadata": {},
   "outputs": [],
   "source": [
    "g = f[0, :, -1]\n",
    "g = tf.reshape(g, shape=(4,))"
   ]
  },
  {
   "cell_type": "markdown",
   "id": "b9d865f6",
   "metadata": {},
   "source": [
    "H) Expand the dimensions of g so that it's of shape (4,1). Assign this to `h`."
   ]
  },
  {
   "cell_type": "code",
   "execution_count": 11,
   "id": "49f99a63",
   "metadata": {},
   "outputs": [],
   "source": [
    "h = tf.expand_dims(g, axis=1)"
   ]
  },
  {
   "cell_type": "markdown",
   "id": "d1480889",
   "metadata": {},
   "source": [
    "H) Multiply e with f, using `tf.matmul` with the optional `transpose_b` argument (`e` must come first in your positional arguments, then `f`). Assign this to `h`."
   ]
  },
  {
   "cell_type": "code",
   "execution_count": 12,
   "id": "f56e51ca",
   "metadata": {},
   "outputs": [],
   "source": [
    "h = tf.matmul(e, f, transpose_b=True)"
   ]
  },
  {
   "cell_type": "markdown",
   "id": "5ea6e33e",
   "metadata": {},
   "source": [
    "I) Create a `(10,10)` tensor filled with ones. Then use `tf.linaalg.band_part()` to mask out the upper triangle of the matrix (i.e. the upper triangle should all be 0s). Assign to `i`."
   ]
  },
  {
   "cell_type": "code",
   "execution_count": 13,
   "id": "d52e6ea1",
   "metadata": {},
   "outputs": [],
   "source": [
    "ones_tensor = tf.ones((10, 10))\n",
    "i = tf.linalg.band_part(ones_tensor, -1, 0)"
   ]
  },
  {
   "cell_type": "markdown",
   "id": "ef2a076e",
   "metadata": {},
   "source": [
    "J) Take the `number_list` below and make it a tensor. Assign it to `j`."
   ]
  },
  {
   "cell_type": "code",
   "execution_count": 14,
   "id": "baa05b44",
   "metadata": {},
   "outputs": [],
   "source": [
    "number_list = [1,2,3,4,8]"
   ]
  },
  {
   "cell_type": "code",
   "execution_count": 15,
   "id": "1504066a",
   "metadata": {},
   "outputs": [],
   "source": [
    "number_list = [1, 2, 3, 4, 8]\n",
    "j = tf.convert_to_tensor(number_list)"
   ]
  },
  {
   "cell_type": "markdown",
   "id": "73c250f4",
   "metadata": {},
   "source": [
    "K) Use `tf.expand_dims` to make `j` into a tensor of shape (1,5). Assign to `k`."
   ]
  },
  {
   "cell_type": "code",
   "execution_count": 16,
   "id": "66d60ad3",
   "metadata": {},
   "outputs": [],
   "source": [
    "k = tf.expand_dims(j, axis=0)"
   ]
  },
  {
   "cell_type": "markdown",
   "id": "f7c32688",
   "metadata": {},
   "source": [
    "L) Use `tf.tile` to repeat `k` 50 times, with an eventual shape of `(50,5)`. Assign to `l`."
   ]
  },
  {
   "cell_type": "code",
   "execution_count": 21,
   "id": "97836faf",
   "metadata": {},
   "outputs": [],
   "source": [
    "l = tf.tile(k, multiples=[50, 1])"
   ]
  },
  {
   "cell_type": "markdown",
   "id": "1a5901ad",
   "metadata": {},
   "source": [
    "M) Use a simple Boolean statement to create a tensor containing `True` values for where `l` is 3  and `False` for where it is not 3. Assign to `m`"
   ]
  },
  {
   "cell_type": "code",
   "execution_count": 28,
   "id": "ae08ce41",
   "metadata": {},
   "outputs": [],
   "source": [
    "m = tf.logical_not(m)"
   ]
  },
  {
   "cell_type": "markdown",
   "id": "41be404a",
   "metadata": {},
   "source": [
    "N) Divide every value in you variable `l` (read as \"L\") by 3. Assign to `n`."
   ]
  },
  {
   "cell_type": "code",
   "execution_count": 29,
   "id": "ecb4f506",
   "metadata": {},
   "outputs": [],
   "source": [
    "l_float64 = tf.cast(l, tf.float64)\n",
    "n = l_float64 / 3.0"
   ]
  },
  {
   "cell_type": "markdown",
   "id": "11f93159",
   "metadata": {},
   "source": [
    "O) Use `tf.concat()` to take the list of two tensors below of shape (5,5) and (5,5) each and turn them into a final tensor of shape (10,5). Assign to `o`. Think carefully about the concation axis."
   ]
  },
  {
   "cell_type": "code",
   "execution_count": 30,
   "id": "7a9bb7b4",
   "metadata": {},
   "outputs": [],
   "source": [
    "tensor_list = [tf.ones((5,5)), tf.ones((5,5))]"
   ]
  },
  {
   "cell_type": "code",
   "execution_count": 31,
   "id": "7b50e59e",
   "metadata": {},
   "outputs": [],
   "source": [
    "tensor_list = [tf.ones((5, 5)), tf.ones((5, 5))]\n",
    "o = tf.concat(tensor_list, axis=0)"
   ]
  },
  {
   "cell_type": "markdown",
   "id": "4b909932",
   "metadata": {},
   "source": [
    "### Check your answers"
   ]
  },
  {
   "cell_type": "code",
   "execution_count": 32,
   "id": "254bae40",
   "metadata": {},
   "outputs": [
    {
     "name": "stdout",
     "output_type": "stream",
     "text": [
      "\n",
      "\u001b[1m============================= test session starts ==============================\u001b[0m\n",
      "platform darwin -- Python 3.10.6, pytest-7.1.3, pluggy-1.0.0 -- /Users/francoisgirard/.pyenv/versions/lewagon/bin/python3\n",
      "cachedir: .pytest_cache\n",
      "rootdir: /Users/francoisgirard/code/francoisgirard51/06-Deep-Learning/05-Transformers/data-tensor-trials/tests\n",
      "plugins: dash-2.14.1, asyncio-0.19.0, typeguard-2.13.3, anyio-3.6.2\n",
      "asyncio: mode=strict\n",
      "\u001b[1mcollecting ... \u001b[0mcollected 15 items\n",
      "\n",
      "test_tensors.py::TestTensors::test_a \u001b[32mPASSED\u001b[0m\u001b[33m                              [  6%]\u001b[0m\n",
      "test_tensors.py::TestTensors::test_b \u001b[32mPASSED\u001b[0m\u001b[33m                              [ 13%]\u001b[0m\n",
      "test_tensors.py::TestTensors::test_c \u001b[32mPASSED\u001b[0m\u001b[33m                              [ 20%]\u001b[0m\n",
      "test_tensors.py::TestTensors::test_d_shape \u001b[32mPASSED\u001b[0m\u001b[33m                        [ 26%]\u001b[0m\n",
      "test_tensors.py::TestTensors::test_e \u001b[32mPASSED\u001b[0m\u001b[33m                              [ 33%]\u001b[0m\n",
      "test_tensors.py::TestTensors::test_f \u001b[32mPASSED\u001b[0m\u001b[33m                              [ 40%]\u001b[0m\n",
      "test_tensors.py::TestTensors::test_g \u001b[32mPASSED\u001b[0m\u001b[33m                              [ 46%]\u001b[0m\n",
      "test_tensors.py::TestTensors::test_h \u001b[32mPASSED\u001b[0m\u001b[33m                              [ 53%]\u001b[0m\n",
      "test_tensors.py::TestTensors::test_i \u001b[32mPASSED\u001b[0m\u001b[33m                              [ 60%]\u001b[0m\n",
      "test_tensors.py::TestTensors::test_j \u001b[32mPASSED\u001b[0m\u001b[33m                              [ 66%]\u001b[0m\n",
      "test_tensors.py::TestTensors::test_k \u001b[32mPASSED\u001b[0m\u001b[33m                              [ 73%]\u001b[0m\n",
      "test_tensors.py::TestTensors::test_l \u001b[32mPASSED\u001b[0m\u001b[33m                              [ 80%]\u001b[0m\n",
      "test_tensors.py::TestTensors::test_m \u001b[32mPASSED\u001b[0m\u001b[33m                              [ 86%]\u001b[0m\n",
      "test_tensors.py::TestTensors::test_n \u001b[32mPASSED\u001b[0m\u001b[33m                              [ 93%]\u001b[0m\n",
      "test_tensors.py::TestTensors::test_o_shape \u001b[32mPASSED\u001b[0m\u001b[33m                        [100%]\u001b[0m\n",
      "\n",
      "\u001b[33m=============================== warnings summary ===============================\u001b[0m\n",
      "../../../../../../.pyenv/versions/lewagon/lib/python3.10/site-packages/tensorflow/core/framework/tensor_shape_pb2.py:18\n",
      "  /Users/francoisgirard/.pyenv/versions/lewagon/lib/python3.10/site-packages/tensorflow/core/framework/tensor_shape_pb2.py:18: DeprecationWarning: Call to deprecated create function FileDescriptor(). Note: Create unlinked descriptors is going to go away. Please use get/find descriptors from generated code or query the descriptor_pool.\n",
      "    DESCRIPTOR = _descriptor.FileDescriptor(\n",
      "\n",
      "../../../../../../.pyenv/versions/lewagon/lib/python3.10/site-packages/tensorflow/core/framework/tensor_shape_pb2.py:36\n",
      "  /Users/francoisgirard/.pyenv/versions/lewagon/lib/python3.10/site-packages/tensorflow/core/framework/tensor_shape_pb2.py:36: DeprecationWarning: Call to deprecated create function FieldDescriptor(). Note: Create unlinked descriptors is going to go away. Please use get/find descriptors from generated code or query the descriptor_pool.\n",
      "    _descriptor.FieldDescriptor(\n",
      "\n",
      "../../../../../../.pyenv/versions/lewagon/lib/python3.10/site-packages/tensorflow/core/framework/tensor_shape_pb2.py:43\n",
      "  /Users/francoisgirard/.pyenv/versions/lewagon/lib/python3.10/site-packages/tensorflow/core/framework/tensor_shape_pb2.py:43: DeprecationWarning: Call to deprecated create function FieldDescriptor(). Note: Create unlinked descriptors is going to go away. Please use get/find descriptors from generated code or query the descriptor_pool.\n",
      "    _descriptor.FieldDescriptor(\n",
      "\n",
      "../../../../../../.pyenv/versions/lewagon/lib/python3.10/site-packages/tensorflow/core/framework/tensor_shape_pb2.py:29\n",
      "  /Users/francoisgirard/.pyenv/versions/lewagon/lib/python3.10/site-packages/tensorflow/core/framework/tensor_shape_pb2.py:29: DeprecationWarning: Call to deprecated create function Descriptor(). Note: Create unlinked descriptors is going to go away. Please use get/find descriptors from generated code or query the descriptor_pool.\n",
      "    _TENSORSHAPEPROTO_DIM = _descriptor.Descriptor(\n",
      "\n",
      "../../../../../../.pyenv/versions/lewagon/lib/python3.10/site-packages/tensorflow/core/framework/tensor_shape_pb2.py:73\n",
      "  /Users/francoisgirard/.pyenv/versions/lewagon/lib/python3.10/site-packages/tensorflow/core/framework/tensor_shape_pb2.py:73: DeprecationWarning: Call to deprecated create function FieldDescriptor(). Note: Create unlinked descriptors is going to go away. Please use get/find descriptors from generated code or query the descriptor_pool.\n",
      "    _descriptor.FieldDescriptor(\n",
      "\n",
      "../../../../../../.pyenv/versions/lewagon/lib/python3.10/site-packages/tensorflow/core/framework/tensor_shape_pb2.py:80\n",
      "  /Users/francoisgirard/.pyenv/versions/lewagon/lib/python3.10/site-packages/tensorflow/core/framework/tensor_shape_pb2.py:80: DeprecationWarning: Call to deprecated create function FieldDescriptor(). Note: Create unlinked descriptors is going to go away. Please use get/find descriptors from generated code or query the descriptor_pool.\n",
      "    _descriptor.FieldDescriptor(\n",
      "\n",
      "../../../../../../.pyenv/versions/lewagon/lib/python3.10/site-packages/tensorflow/core/framework/tensor_shape_pb2.py:66\n",
      "  /Users/francoisgirard/.pyenv/versions/lewagon/lib/python3.10/site-packages/tensorflow/core/framework/tensor_shape_pb2.py:66: DeprecationWarning: Call to deprecated create function Descriptor(). Note: Create unlinked descriptors is going to go away. Please use get/find descriptors from generated code or query the descriptor_pool.\n",
      "    _TENSORSHAPEPROTO = _descriptor.Descriptor(\n",
      "\n",
      "../../../../../../.pyenv/versions/lewagon/lib/python3.10/site-packages/tensorflow/core/framework/types_pb2.py:19\n",
      "  /Users/francoisgirard/.pyenv/versions/lewagon/lib/python3.10/site-packages/tensorflow/core/framework/types_pb2.py:19: DeprecationWarning: Call to deprecated create function FileDescriptor(). Note: Create unlinked descriptors is going to go away. Please use get/find descriptors from generated code or query the descriptor_pool.\n",
      "    DESCRIPTOR = _descriptor.FileDescriptor(\n",
      "\n",
      "../../../../../../.pyenv/versions/lewagon/lib/python3.10/site-packages/tensorflow/core/framework/types_pb2.py:33\n",
      "  /Users/francoisgirard/.pyenv/versions/lewagon/lib/python3.10/site-packages/tensorflow/core/framework/types_pb2.py:33: DeprecationWarning: Call to deprecated create function EnumValueDescriptor(). Note: Create unlinked descriptors is going to go away. Please use get/find descriptors from generated code or query the descriptor_pool.\n",
      "    _descriptor.EnumValueDescriptor(\n",
      "\n",
      "../../../../../../.pyenv/versions/lewagon/lib/python3.10/site-packages/tensorflow/core/framework/types_pb2.py:37\n",
      "  /Users/francoisgirard/.pyenv/versions/lewagon/lib/python3.10/site-packages/tensorflow/core/framework/types_pb2.py:37: DeprecationWarning: Call to deprecated create function EnumValueDescriptor(). Note: Create unlinked descriptors is going to go away. Please use get/find descriptors from generated code or query the descriptor_pool.\n",
      "    _descriptor.EnumValueDescriptor(\n",
      "\n",
      "../../../../../../.pyenv/versions/lewagon/lib/python3.10/site-packages/tensorflow/core/framework/types_pb2.py:41\n",
      "  /Users/francoisgirard/.pyenv/versions/lewagon/lib/python3.10/site-packages/tensorflow/core/framework/types_pb2.py:41: DeprecationWarning: Call to deprecated create function EnumValueDescriptor(). Note: Create unlinked descriptors is going to go away. Please use get/find descriptors from generated code or query the descriptor_pool.\n",
      "    _descriptor.EnumValueDescriptor(\n",
      "\n",
      "../../../../../../.pyenv/versions/lewagon/lib/python3.10/site-packages/tensorflow/core/framework/types_pb2.py:45\n",
      "  /Users/francoisgirard/.pyenv/versions/lewagon/lib/python3.10/site-packages/tensorflow/core/framework/types_pb2.py:45: DeprecationWarning: Call to deprecated create function EnumValueDescriptor(). Note: Create unlinked descriptors is going to go away. Please use get/find descriptors from generated code or query the descriptor_pool.\n",
      "    _descriptor.EnumValueDescriptor(\n",
      "\n",
      "../../../../../../.pyenv/versions/lewagon/lib/python3.10/site-packages/tensorflow/core/framework/types_pb2.py:49\n",
      "  /Users/francoisgirard/.pyenv/versions/lewagon/lib/python3.10/site-packages/tensorflow/core/framework/types_pb2.py:49: DeprecationWarning: Call to deprecated create function EnumValueDescriptor(). Note: Create unlinked descriptors is going to go away. Please use get/find descriptors from generated code or query the descriptor_pool.\n",
      "    _descriptor.EnumValueDescriptor(\n",
      "\n",
      "../../../../../../.pyenv/versions/lewagon/lib/python3.10/site-packages/tensorflow/core/framework/types_pb2.py:53\n",
      "  /Users/francoisgirard/.pyenv/versions/lewagon/lib/python3.10/site-packages/tensorflow/core/framework/types_pb2.py:53: DeprecationWarning: Call to deprecated create function EnumValueDescriptor(). Note: Create unlinked descriptors is going to go away. Please use get/find descriptors from generated code or query the descriptor_pool.\n",
      "    _descriptor.EnumValueDescriptor(\n",
      "\n",
      "../../../../../../.pyenv/versions/lewagon/lib/python3.10/site-packages/tensorflow/core/framework/types_pb2.py:57\n",
      "  /Users/francoisgirard/.pyenv/versions/lewagon/lib/python3.10/site-packages/tensorflow/core/framework/types_pb2.py:57: DeprecationWarning: Call to deprecated create function EnumValueDescriptor(). Note: Create unlinked descriptors is going to go away. Please use get/find descriptors from generated code or query the descriptor_pool.\n",
      "    _descriptor.EnumValueDescriptor(\n",
      "\n",
      "../../../../../../.pyenv/versions/lewagon/lib/python3.10/site-packages/tensorflow/core/framework/types_pb2.py:61\n",
      "  /Users/francoisgirard/.pyenv/versions/lewagon/lib/python3.10/site-packages/tensorflow/core/framework/types_pb2.py:61: DeprecationWarning: Call to deprecated create function EnumValueDescriptor(). Note: Create unlinked descriptors is going to go away. Please use get/find descriptors from generated code or query the descriptor_pool.\n",
      "    _descriptor.EnumValueDescriptor(\n",
      "\n",
      "../../../../../../.pyenv/versions/lewagon/lib/python3.10/site-packages/tensorflow/core/framework/types_pb2.py:65\n",
      "  /Users/francoisgirard/.pyenv/versions/lewagon/lib/python3.10/site-packages/tensorflow/core/framework/types_pb2.py:65: DeprecationWarning: Call to deprecated create function EnumValueDescriptor(). Note: Create unlinked descriptors is going to go away. Please use get/find descriptors from generated code or query the descriptor_pool.\n",
      "    _descriptor.EnumValueDescriptor(\n",
      "\n",
      "../../../../../../.pyenv/versions/lewagon/lib/python3.10/site-packages/tensorflow/core/framework/types_pb2.py:69\n",
      "  /Users/francoisgirard/.pyenv/versions/lewagon/lib/python3.10/site-packages/tensorflow/core/framework/types_pb2.py:69: DeprecationWarning: Call to deprecated create function EnumValueDescriptor(). Note: Create unlinked descriptors is going to go away. Please use get/find descriptors from generated code or query the descriptor_pool.\n",
      "    _descriptor.EnumValueDescriptor(\n",
      "\n",
      "../../../../../../.pyenv/versions/lewagon/lib/python3.10/site-packages/tensorflow/core/framework/types_pb2.py:73\n",
      "  /Users/francoisgirard/.pyenv/versions/lewagon/lib/python3.10/site-packages/tensorflow/core/framework/types_pb2.py:73: DeprecationWarning: Call to deprecated create function EnumValueDescriptor(). Note: Create unlinked descriptors is going to go away. Please use get/find descriptors from generated code or query the descriptor_pool.\n",
      "    _descriptor.EnumValueDescriptor(\n",
      "\n",
      "../../../../../../.pyenv/versions/lewagon/lib/python3.10/site-packages/tensorflow/core/framework/types_pb2.py:77\n",
      "  /Users/francoisgirard/.pyenv/versions/lewagon/lib/python3.10/site-packages/tensorflow/core/framework/types_pb2.py:77: DeprecationWarning: Call to deprecated create function EnumValueDescriptor(). Note: Create unlinked descriptors is going to go away. Please use get/find descriptors from generated code or query the descriptor_pool.\n",
      "    _descriptor.EnumValueDescriptor(\n",
      "\n",
      "../../../../../../.pyenv/versions/lewagon/lib/python3.10/site-packages/tensorflow/core/framework/types_pb2.py:81\n",
      "  /Users/francoisgirard/.pyenv/versions/lewagon/lib/python3.10/site-packages/tensorflow/core/framework/types_pb2.py:81: DeprecationWarning: Call to deprecated create function EnumValueDescriptor(). Note: Create unlinked descriptors is going to go away. Please use get/find descriptors from generated code or query the descriptor_pool.\n",
      "    _descriptor.EnumValueDescriptor(\n",
      "\n",
      "../../../../../../.pyenv/versions/lewagon/lib/python3.10/site-packages/tensorflow/core/framework/types_pb2.py:85\n",
      "  /Users/francoisgirard/.pyenv/versions/lewagon/lib/python3.10/site-packages/tensorflow/core/framework/types_pb2.py:85: DeprecationWarning: Call to deprecated create function EnumValueDescriptor(). Note: Create unlinked descriptors is going to go away. Please use get/find descriptors from generated code or query the descriptor_pool.\n",
      "    _descriptor.EnumValueDescriptor(\n",
      "\n",
      "../../../../../../.pyenv/versions/lewagon/lib/python3.10/site-packages/tensorflow/core/framework/types_pb2.py:89\n",
      "  /Users/francoisgirard/.pyenv/versions/lewagon/lib/python3.10/site-packages/tensorflow/core/framework/types_pb2.py:89: DeprecationWarning: Call to deprecated create function EnumValueDescriptor(). Note: Create unlinked descriptors is going to go away. Please use get/find descriptors from generated code or query the descriptor_pool.\n",
      "    _descriptor.EnumValueDescriptor(\n",
      "\n",
      "../../../../../../.pyenv/versions/lewagon/lib/python3.10/site-packages/tensorflow/core/framework/types_pb2.py:93\n",
      "  /Users/francoisgirard/.pyenv/versions/lewagon/lib/python3.10/site-packages/tensorflow/core/framework/types_pb2.py:93: DeprecationWarning: Call to deprecated create function EnumValueDescriptor(). Note: Create unlinked descriptors is going to go away. Please use get/find descriptors from generated code or query the descriptor_pool.\n",
      "    _descriptor.EnumValueDescriptor(\n",
      "\n",
      "../../../../../../.pyenv/versions/lewagon/lib/python3.10/site-packages/tensorflow/core/framework/types_pb2.py:97\n",
      "  /Users/francoisgirard/.pyenv/versions/lewagon/lib/python3.10/site-packages/tensorflow/core/framework/types_pb2.py:97: DeprecationWarning: Call to deprecated create function EnumValueDescriptor(). Note: Create unlinked descriptors is going to go away. Please use get/find descriptors from generated code or query the descriptor_pool.\n",
      "    _descriptor.EnumValueDescriptor(\n",
      "\n",
      "../../../../../../.pyenv/versions/lewagon/lib/python3.10/site-packages/tensorflow/core/framework/types_pb2.py:101\n",
      "  /Users/francoisgirard/.pyenv/versions/lewagon/lib/python3.10/site-packages/tensorflow/core/framework/types_pb2.py:101: DeprecationWarning: Call to deprecated create function EnumValueDescriptor(). Note: Create unlinked descriptors is going to go away. Please use get/find descriptors from generated code or query the descriptor_pool.\n",
      "    _descriptor.EnumValueDescriptor(\n",
      "\n",
      "../../../../../../.pyenv/versions/lewagon/lib/python3.10/site-packages/tensorflow/core/framework/types_pb2.py:105\n",
      "  /Users/francoisgirard/.pyenv/versions/lewagon/lib/python3.10/site-packages/tensorflow/core/framework/types_pb2.py:105: DeprecationWarning: Call to deprecated create function EnumValueDescriptor(). Note: Create unlinked descriptors is going to go away. Please use get/find descriptors from generated code or query the descriptor_pool.\n",
      "    _descriptor.EnumValueDescriptor(\n",
      "\n",
      "../../../../../../.pyenv/versions/lewagon/lib/python3.10/site-packages/tensorflow/core/framework/types_pb2.py:109\n",
      "  /Users/francoisgirard/.pyenv/versions/lewagon/lib/python3.10/site-packages/tensorflow/core/framework/types_pb2.py:109: DeprecationWarning: Call to deprecated create function EnumValueDescriptor(). Note: Create unlinked descriptors is going to go away. Please use get/find descriptors from generated code or query the descriptor_pool.\n",
      "    _descriptor.EnumValueDescriptor(\n",
      "\n",
      "../../../../../../.pyenv/versions/lewagon/lib/python3.10/site-packages/tensorflow/core/framework/types_pb2.py:113\n",
      "  /Users/francoisgirard/.pyenv/versions/lewagon/lib/python3.10/site-packages/tensorflow/core/framework/types_pb2.py:113: DeprecationWarning: Call to deprecated create function EnumValueDescriptor(). Note: Create unlinked descriptors is going to go away. Please use get/find descriptors from generated code or query the descriptor_pool.\n",
      "    _descriptor.EnumValueDescriptor(\n",
      "\n",
      "../../../../../../.pyenv/versions/lewagon/lib/python3.10/site-packages/tensorflow/core/framework/types_pb2.py:117\n",
      "  /Users/francoisgirard/.pyenv/versions/lewagon/lib/python3.10/site-packages/tensorflow/core/framework/types_pb2.py:117: DeprecationWarning: Call to deprecated create function EnumValueDescriptor(). Note: Create unlinked descriptors is going to go away. Please use get/find descriptors from generated code or query the descriptor_pool.\n",
      "    _descriptor.EnumValueDescriptor(\n",
      "\n",
      "../../../../../../.pyenv/versions/lewagon/lib/python3.10/site-packages/tensorflow/core/framework/types_pb2.py:121\n",
      "  /Users/francoisgirard/.pyenv/versions/lewagon/lib/python3.10/site-packages/tensorflow/core/framework/types_pb2.py:121: DeprecationWarning: Call to deprecated create function EnumValueDescriptor(). Note: Create unlinked descriptors is going to go away. Please use get/find descriptors from generated code or query the descriptor_pool.\n",
      "    _descriptor.EnumValueDescriptor(\n",
      "\n",
      "../../../../../../.pyenv/versions/lewagon/lib/python3.10/site-packages/tensorflow/core/framework/types_pb2.py:125\n",
      "  /Users/francoisgirard/.pyenv/versions/lewagon/lib/python3.10/site-packages/tensorflow/core/framework/types_pb2.py:125: DeprecationWarning: Call to deprecated create function EnumValueDescriptor(). Note: Create unlinked descriptors is going to go away. Please use get/find descriptors from generated code or query the descriptor_pool.\n",
      "    _descriptor.EnumValueDescriptor(\n",
      "\n",
      "../../../../../../.pyenv/versions/lewagon/lib/python3.10/site-packages/tensorflow/core/framework/types_pb2.py:129\n",
      "  /Users/francoisgirard/.pyenv/versions/lewagon/lib/python3.10/site-packages/tensorflow/core/framework/types_pb2.py:129: DeprecationWarning: Call to deprecated create function EnumValueDescriptor(). Note: Create unlinked descriptors is going to go away. Please use get/find descriptors from generated code or query the descriptor_pool.\n",
      "    _descriptor.EnumValueDescriptor(\n",
      "\n",
      "../../../../../../.pyenv/versions/lewagon/lib/python3.10/site-packages/tensorflow/core/framework/types_pb2.py:133\n",
      "  /Users/francoisgirard/.pyenv/versions/lewagon/lib/python3.10/site-packages/tensorflow/core/framework/types_pb2.py:133: DeprecationWarning: Call to deprecated create function EnumValueDescriptor(). Note: Create unlinked descriptors is going to go away. Please use get/find descriptors from generated code or query the descriptor_pool.\n",
      "    _descriptor.EnumValueDescriptor(\n",
      "\n",
      "../../../../../../.pyenv/versions/lewagon/lib/python3.10/site-packages/tensorflow/core/framework/types_pb2.py:137\n",
      "  /Users/francoisgirard/.pyenv/versions/lewagon/lib/python3.10/site-packages/tensorflow/core/framework/types_pb2.py:137: DeprecationWarning: Call to deprecated create function EnumValueDescriptor(). Note: Create unlinked descriptors is going to go away. Please use get/find descriptors from generated code or query the descriptor_pool.\n",
      "    _descriptor.EnumValueDescriptor(\n",
      "\n",
      "../../../../../../.pyenv/versions/lewagon/lib/python3.10/site-packages/tensorflow/core/framework/types_pb2.py:141\n",
      "  /Users/francoisgirard/.pyenv/versions/lewagon/lib/python3.10/site-packages/tensorflow/core/framework/types_pb2.py:141: DeprecationWarning: Call to deprecated create function EnumValueDescriptor(). Note: Create unlinked descriptors is going to go away. Please use get/find descriptors from generated code or query the descriptor_pool.\n",
      "    _descriptor.EnumValueDescriptor(\n",
      "\n",
      "../../../../../../.pyenv/versions/lewagon/lib/python3.10/site-packages/tensorflow/core/framework/types_pb2.py:145\n",
      "  /Users/francoisgirard/.pyenv/versions/lewagon/lib/python3.10/site-packages/tensorflow/core/framework/types_pb2.py:145: DeprecationWarning: Call to deprecated create function EnumValueDescriptor(). Note: Create unlinked descriptors is going to go away. Please use get/find descriptors from generated code or query the descriptor_pool.\n",
      "    _descriptor.EnumValueDescriptor(\n",
      "\n",
      "../../../../../../.pyenv/versions/lewagon/lib/python3.10/site-packages/tensorflow/core/framework/types_pb2.py:149\n",
      "  /Users/francoisgirard/.pyenv/versions/lewagon/lib/python3.10/site-packages/tensorflow/core/framework/types_pb2.py:149: DeprecationWarning: Call to deprecated create function EnumValueDescriptor(). Note: Create unlinked descriptors is going to go away. Please use get/find descriptors from generated code or query the descriptor_pool.\n",
      "    _descriptor.EnumValueDescriptor(\n",
      "\n",
      "../../../../../../.pyenv/versions/lewagon/lib/python3.10/site-packages/tensorflow/core/framework/types_pb2.py:153\n",
      "  /Users/francoisgirard/.pyenv/versions/lewagon/lib/python3.10/site-packages/tensorflow/core/framework/types_pb2.py:153: DeprecationWarning: Call to deprecated create function EnumValueDescriptor(). Note: Create unlinked descriptors is going to go away. Please use get/find descriptors from generated code or query the descriptor_pool.\n",
      "    _descriptor.EnumValueDescriptor(\n",
      "\n",
      "../../../../../../.pyenv/versions/lewagon/lib/python3.10/site-packages/tensorflow/core/framework/types_pb2.py:157\n",
      "  /Users/francoisgirard/.pyenv/versions/lewagon/lib/python3.10/site-packages/tensorflow/core/framework/types_pb2.py:157: DeprecationWarning: Call to deprecated create function EnumValueDescriptor(). Note: Create unlinked descriptors is going to go away. Please use get/find descriptors from generated code or query the descriptor_pool.\n",
      "    _descriptor.EnumValueDescriptor(\n",
      "\n",
      "../../../../../../.pyenv/versions/lewagon/lib/python3.10/site-packages/tensorflow/core/framework/types_pb2.py:161\n",
      "  /Users/francoisgirard/.pyenv/versions/lewagon/lib/python3.10/site-packages/tensorflow/core/framework/types_pb2.py:161: DeprecationWarning: Call to deprecated create function EnumValueDescriptor(). Note: Create unlinked descriptors is going to go away. Please use get/find descriptors from generated code or query the descriptor_pool.\n",
      "    _descriptor.EnumValueDescriptor(\n",
      "\n",
      "../../../../../../.pyenv/versions/lewagon/lib/python3.10/site-packages/tensorflow/core/framework/types_pb2.py:165\n",
      "  /Users/francoisgirard/.pyenv/versions/lewagon/lib/python3.10/site-packages/tensorflow/core/framework/types_pb2.py:165: DeprecationWarning: Call to deprecated create function EnumValueDescriptor(). Note: Create unlinked descriptors is going to go away. Please use get/find descriptors from generated code or query the descriptor_pool.\n",
      "    _descriptor.EnumValueDescriptor(\n",
      "\n",
      "../../../../../../.pyenv/versions/lewagon/lib/python3.10/site-packages/tensorflow/core/framework/types_pb2.py:169\n",
      "  /Users/francoisgirard/.pyenv/versions/lewagon/lib/python3.10/site-packages/tensorflow/core/framework/types_pb2.py:169: DeprecationWarning: Call to deprecated create function EnumValueDescriptor(). Note: Create unlinked descriptors is going to go away. Please use get/find descriptors from generated code or query the descriptor_pool.\n",
      "    _descriptor.EnumValueDescriptor(\n",
      "\n",
      "../../../../../../.pyenv/versions/lewagon/lib/python3.10/site-packages/tensorflow/core/framework/types_pb2.py:173\n",
      "  /Users/francoisgirard/.pyenv/versions/lewagon/lib/python3.10/site-packages/tensorflow/core/framework/types_pb2.py:173: DeprecationWarning: Call to deprecated create function EnumValueDescriptor(). Note: Create unlinked descriptors is going to go away. Please use get/find descriptors from generated code or query the descriptor_pool.\n",
      "    _descriptor.EnumValueDescriptor(\n",
      "\n",
      "../../../../../../.pyenv/versions/lewagon/lib/python3.10/site-packages/tensorflow/core/framework/types_pb2.py:177\n",
      "  /Users/francoisgirard/.pyenv/versions/lewagon/lib/python3.10/site-packages/tensorflow/core/framework/types_pb2.py:177: DeprecationWarning: Call to deprecated create function EnumValueDescriptor(). Note: Create unlinked descriptors is going to go away. Please use get/find descriptors from generated code or query the descriptor_pool.\n",
      "    _descriptor.EnumValueDescriptor(\n",
      "\n",
      "../../../../../../.pyenv/versions/lewagon/lib/python3.10/site-packages/tensorflow/core/framework/types_pb2.py:181\n",
      "  /Users/francoisgirard/.pyenv/versions/lewagon/lib/python3.10/site-packages/tensorflow/core/framework/types_pb2.py:181: DeprecationWarning: Call to deprecated create function EnumValueDescriptor(). Note: Create unlinked descriptors is going to go away. Please use get/find descriptors from generated code or query the descriptor_pool.\n",
      "    _descriptor.EnumValueDescriptor(\n",
      "\n",
      "../../../../../../.pyenv/versions/lewagon/lib/python3.10/site-packages/tensorflow/core/framework/types_pb2.py:185\n",
      "  /Users/francoisgirard/.pyenv/versions/lewagon/lib/python3.10/site-packages/tensorflow/core/framework/types_pb2.py:185: DeprecationWarning: Call to deprecated create function EnumValueDescriptor(). Note: Create unlinked descriptors is going to go away. Please use get/find descriptors from generated code or query the descriptor_pool.\n",
      "    _descriptor.EnumValueDescriptor(\n",
      "\n",
      "../../../../../../.pyenv/versions/lewagon/lib/python3.10/site-packages/tensorflow/core/framework/types_pb2.py:189\n",
      "  /Users/francoisgirard/.pyenv/versions/lewagon/lib/python3.10/site-packages/tensorflow/core/framework/types_pb2.py:189: DeprecationWarning: Call to deprecated create function EnumValueDescriptor(). Note: Create unlinked descriptors is going to go away. Please use get/find descriptors from generated code or query the descriptor_pool.\n",
      "    _descriptor.EnumValueDescriptor(\n",
      "\n",
      "../../../../../../.pyenv/versions/lewagon/lib/python3.10/site-packages/tensorflow/core/framework/types_pb2.py:193\n",
      "  /Users/francoisgirard/.pyenv/versions/lewagon/lib/python3.10/site-packages/tensorflow/core/framework/types_pb2.py:193: DeprecationWarning: Call to deprecated create function EnumValueDescriptor(). Note: Create unlinked descriptors is going to go away. Please use get/find descriptors from generated code or query the descriptor_pool.\n",
      "    _descriptor.EnumValueDescriptor(\n",
      "\n",
      "../../../../../../.pyenv/versions/lewagon/lib/python3.10/site-packages/tensorflow/core/framework/types_pb2.py:197\n",
      "  /Users/francoisgirard/.pyenv/versions/lewagon/lib/python3.10/site-packages/tensorflow/core/framework/types_pb2.py:197: DeprecationWarning: Call to deprecated create function EnumValueDescriptor(). Note: Create unlinked descriptors is going to go away. Please use get/find descriptors from generated code or query the descriptor_pool.\n",
      "    _descriptor.EnumValueDescriptor(\n",
      "\n",
      "../../../../../../.pyenv/versions/lewagon/lib/python3.10/site-packages/tensorflow/core/framework/types_pb2.py:201\n",
      "  /Users/francoisgirard/.pyenv/versions/lewagon/lib/python3.10/site-packages/tensorflow/core/framework/types_pb2.py:201: DeprecationWarning: Call to deprecated create function EnumValueDescriptor(). Note: Create unlinked descriptors is going to go away. Please use get/find descriptors from generated code or query the descriptor_pool.\n",
      "    _descriptor.EnumValueDescriptor(\n",
      "\n",
      "../../../../../../.pyenv/versions/lewagon/lib/python3.10/site-packages/tensorflow/core/framework/types_pb2.py:205\n",
      "  /Users/francoisgirard/.pyenv/versions/lewagon/lib/python3.10/site-packages/tensorflow/core/framework/types_pb2.py:205: DeprecationWarning: Call to deprecated create function EnumValueDescriptor(). Note: Create unlinked descriptors is going to go away. Please use get/find descriptors from generated code or query the descriptor_pool.\n",
      "    _descriptor.EnumValueDescriptor(\n",
      "\n",
      "../../../../../../.pyenv/versions/lewagon/lib/python3.10/site-packages/tensorflow/core/framework/types_pb2.py:209\n",
      "  /Users/francoisgirard/.pyenv/versions/lewagon/lib/python3.10/site-packages/tensorflow/core/framework/types_pb2.py:209: DeprecationWarning: Call to deprecated create function EnumValueDescriptor(). Note: Create unlinked descriptors is going to go away. Please use get/find descriptors from generated code or query the descriptor_pool.\n",
      "    _descriptor.EnumValueDescriptor(\n",
      "\n",
      "../../../../../../.pyenv/versions/lewagon/lib/python3.10/site-packages/tensorflow/core/framework/types_pb2.py:213\n",
      "  /Users/francoisgirard/.pyenv/versions/lewagon/lib/python3.10/site-packages/tensorflow/core/framework/types_pb2.py:213: DeprecationWarning: Call to deprecated create function EnumValueDescriptor(). Note: Create unlinked descriptors is going to go away. Please use get/find descriptors from generated code or query the descriptor_pool.\n",
      "    _descriptor.EnumValueDescriptor(\n",
      "\n",
      "../../../../../../.pyenv/versions/lewagon/lib/python3.10/site-packages/tensorflow/core/framework/types_pb2.py:217\n",
      "  /Users/francoisgirard/.pyenv/versions/lewagon/lib/python3.10/site-packages/tensorflow/core/framework/types_pb2.py:217: DeprecationWarning: Call to deprecated create function EnumValueDescriptor(). Note: Create unlinked descriptors is going to go away. Please use get/find descriptors from generated code or query the descriptor_pool.\n",
      "    _descriptor.EnumValueDescriptor(\n",
      "\n",
      "../../../../../../.pyenv/versions/lewagon/lib/python3.10/site-packages/tensorflow/core/framework/types_pb2.py:27\n",
      "  /Users/francoisgirard/.pyenv/versions/lewagon/lib/python3.10/site-packages/tensorflow/core/framework/types_pb2.py:27: DeprecationWarning: Call to deprecated create function EnumDescriptor(). Note: Create unlinked descriptors is going to go away. Please use get/find descriptors from generated code or query the descriptor_pool.\n",
      "    _DATATYPE = _descriptor.EnumDescriptor(\n",
      "\n",
      "../../../../../../.pyenv/versions/lewagon/lib/python3.10/site-packages/tensorflow/core/framework/types_pb2.py:287\n",
      "  /Users/francoisgirard/.pyenv/versions/lewagon/lib/python3.10/site-packages/tensorflow/core/framework/types_pb2.py:287: DeprecationWarning: Call to deprecated create function FieldDescriptor(). Note: Create unlinked descriptors is going to go away. Please use get/find descriptors from generated code or query the descriptor_pool.\n",
      "    _descriptor.FieldDescriptor(\n",
      "\n",
      "../../../../../../.pyenv/versions/lewagon/lib/python3.10/site-packages/tensorflow/core/framework/types_pb2.py:280\n",
      "  /Users/francoisgirard/.pyenv/versions/lewagon/lib/python3.10/site-packages/tensorflow/core/framework/types_pb2.py:280: DeprecationWarning: Call to deprecated create function Descriptor(). Note: Create unlinked descriptors is going to go away. Please use get/find descriptors from generated code or query the descriptor_pool.\n",
      "    _SERIALIZEDDTYPE = _descriptor.Descriptor(\n",
      "\n",
      "../../../../../../.pyenv/versions/lewagon/lib/python3.10/site-packages/tensorflow/core/framework/resource_handle_pb2.py:20\n",
      "  /Users/francoisgirard/.pyenv/versions/lewagon/lib/python3.10/site-packages/tensorflow/core/framework/resource_handle_pb2.py:20: DeprecationWarning: Call to deprecated create function FileDescriptor(). Note: Create unlinked descriptors is going to go away. Please use get/find descriptors from generated code or query the descriptor_pool.\n",
      "    DESCRIPTOR = _descriptor.FileDescriptor(\n",
      "\n",
      "../../../../../../.pyenv/versions/lewagon/lib/python3.10/site-packages/tensorflow/core/framework/resource_handle_pb2.py:39\n",
      "  /Users/francoisgirard/.pyenv/versions/lewagon/lib/python3.10/site-packages/tensorflow/core/framework/resource_handle_pb2.py:39: DeprecationWarning: Call to deprecated create function FieldDescriptor(). Note: Create unlinked descriptors is going to go away. Please use get/find descriptors from generated code or query the descriptor_pool.\n",
      "    _descriptor.FieldDescriptor(\n",
      "\n",
      "../../../../../../.pyenv/versions/lewagon/lib/python3.10/site-packages/tensorflow/core/framework/resource_handle_pb2.py:46\n",
      "  /Users/francoisgirard/.pyenv/versions/lewagon/lib/python3.10/site-packages/tensorflow/core/framework/resource_handle_pb2.py:46: DeprecationWarning: Call to deprecated create function FieldDescriptor(). Note: Create unlinked descriptors is going to go away. Please use get/find descriptors from generated code or query the descriptor_pool.\n",
      "    _descriptor.FieldDescriptor(\n",
      "\n",
      "../../../../../../.pyenv/versions/lewagon/lib/python3.10/site-packages/tensorflow/core/framework/resource_handle_pb2.py:32\n",
      "  /Users/francoisgirard/.pyenv/versions/lewagon/lib/python3.10/site-packages/tensorflow/core/framework/resource_handle_pb2.py:32: DeprecationWarning: Call to deprecated create function Descriptor(). Note: Create unlinked descriptors is going to go away. Please use get/find descriptors from generated code or query the descriptor_pool.\n",
      "    _RESOURCEHANDLEPROTO_DTYPEANDSHAPE = _descriptor.Descriptor(\n",
      "\n",
      "../../../../../../.pyenv/versions/lewagon/lib/python3.10/site-packages/tensorflow/core/framework/resource_handle_pb2.py:76\n",
      "  /Users/francoisgirard/.pyenv/versions/lewagon/lib/python3.10/site-packages/tensorflow/core/framework/resource_handle_pb2.py:76: DeprecationWarning: Call to deprecated create function FieldDescriptor(). Note: Create unlinked descriptors is going to go away. Please use get/find descriptors from generated code or query the descriptor_pool.\n",
      "    _descriptor.FieldDescriptor(\n",
      "\n",
      "../../../../../../.pyenv/versions/lewagon/lib/python3.10/site-packages/tensorflow/core/framework/resource_handle_pb2.py:83\n",
      "  /Users/francoisgirard/.pyenv/versions/lewagon/lib/python3.10/site-packages/tensorflow/core/framework/resource_handle_pb2.py:83: DeprecationWarning: Call to deprecated create function FieldDescriptor(). Note: Create unlinked descriptors is going to go away. Please use get/find descriptors from generated code or query the descriptor_pool.\n",
      "    _descriptor.FieldDescriptor(\n",
      "\n",
      "../../../../../../.pyenv/versions/lewagon/lib/python3.10/site-packages/tensorflow/core/framework/resource_handle_pb2.py:90\n",
      "  /Users/francoisgirard/.pyenv/versions/lewagon/lib/python3.10/site-packages/tensorflow/core/framework/resource_handle_pb2.py:90: DeprecationWarning: Call to deprecated create function FieldDescriptor(). Note: Create unlinked descriptors is going to go away. Please use get/find descriptors from generated code or query the descriptor_pool.\n",
      "    _descriptor.FieldDescriptor(\n",
      "\n",
      "../../../../../../.pyenv/versions/lewagon/lib/python3.10/site-packages/tensorflow/core/framework/resource_handle_pb2.py:97\n",
      "  /Users/francoisgirard/.pyenv/versions/lewagon/lib/python3.10/site-packages/tensorflow/core/framework/resource_handle_pb2.py:97: DeprecationWarning: Call to deprecated create function FieldDescriptor(). Note: Create unlinked descriptors is going to go away. Please use get/find descriptors from generated code or query the descriptor_pool.\n",
      "    _descriptor.FieldDescriptor(\n",
      "\n",
      "../../../../../../.pyenv/versions/lewagon/lib/python3.10/site-packages/tensorflow/core/framework/resource_handle_pb2.py:104\n",
      "  /Users/francoisgirard/.pyenv/versions/lewagon/lib/python3.10/site-packages/tensorflow/core/framework/resource_handle_pb2.py:104: DeprecationWarning: Call to deprecated create function FieldDescriptor(). Note: Create unlinked descriptors is going to go away. Please use get/find descriptors from generated code or query the descriptor_pool.\n",
      "    _descriptor.FieldDescriptor(\n",
      "\n",
      "../../../../../../.pyenv/versions/lewagon/lib/python3.10/site-packages/tensorflow/core/framework/resource_handle_pb2.py:111\n",
      "  /Users/francoisgirard/.pyenv/versions/lewagon/lib/python3.10/site-packages/tensorflow/core/framework/resource_handle_pb2.py:111: DeprecationWarning: Call to deprecated create function FieldDescriptor(). Note: Create unlinked descriptors is going to go away. Please use get/find descriptors from generated code or query the descriptor_pool.\n",
      "    _descriptor.FieldDescriptor(\n",
      "\n",
      "../../../../../../.pyenv/versions/lewagon/lib/python3.10/site-packages/tensorflow/core/framework/resource_handle_pb2.py:69\n",
      "  /Users/francoisgirard/.pyenv/versions/lewagon/lib/python3.10/site-packages/tensorflow/core/framework/resource_handle_pb2.py:69: DeprecationWarning: Call to deprecated create function Descriptor(). Note: Create unlinked descriptors is going to go away. Please use get/find descriptors from generated code or query the descriptor_pool.\n",
      "    _RESOURCEHANDLEPROTO = _descriptor.Descriptor(\n",
      "\n",
      "../../../../../../.pyenv/versions/lewagon/lib/python3.10/site-packages/tensorflow/core/framework/tensor_pb2.py:21\n",
      "  /Users/francoisgirard/.pyenv/versions/lewagon/lib/python3.10/site-packages/tensorflow/core/framework/tensor_pb2.py:21: DeprecationWarning: Call to deprecated create function FileDescriptor(). Note: Create unlinked descriptors is going to go away. Please use get/find descriptors from generated code or query the descriptor_pool.\n",
      "    DESCRIPTOR = _descriptor.FileDescriptor(\n",
      "\n",
      "../../../../../../.pyenv/versions/lewagon/lib/python3.10/site-packages/tensorflow/core/framework/tensor_pb2.py:40\n",
      "  /Users/francoisgirard/.pyenv/versions/lewagon/lib/python3.10/site-packages/tensorflow/core/framework/tensor_pb2.py:40: DeprecationWarning: Call to deprecated create function FieldDescriptor(). Note: Create unlinked descriptors is going to go away. Please use get/find descriptors from generated code or query the descriptor_pool.\n",
      "    _descriptor.FieldDescriptor(\n",
      "\n",
      "../../../../../../.pyenv/versions/lewagon/lib/python3.10/site-packages/tensorflow/core/framework/tensor_pb2.py:47\n",
      "  /Users/francoisgirard/.pyenv/versions/lewagon/lib/python3.10/site-packages/tensorflow/core/framework/tensor_pb2.py:47: DeprecationWarning: Call to deprecated create function FieldDescriptor(). Note: Create unlinked descriptors is going to go away. Please use get/find descriptors from generated code or query the descriptor_pool.\n",
      "    _descriptor.FieldDescriptor(\n",
      "\n",
      "../../../../../../.pyenv/versions/lewagon/lib/python3.10/site-packages/tensorflow/core/framework/tensor_pb2.py:54\n",
      "  /Users/francoisgirard/.pyenv/versions/lewagon/lib/python3.10/site-packages/tensorflow/core/framework/tensor_pb2.py:54: DeprecationWarning: Call to deprecated create function FieldDescriptor(). Note: Create unlinked descriptors is going to go away. Please use get/find descriptors from generated code or query the descriptor_pool.\n",
      "    _descriptor.FieldDescriptor(\n",
      "\n",
      "../../../../../../.pyenv/versions/lewagon/lib/python3.10/site-packages/tensorflow/core/framework/tensor_pb2.py:61\n",
      "  /Users/francoisgirard/.pyenv/versions/lewagon/lib/python3.10/site-packages/tensorflow/core/framework/tensor_pb2.py:61: DeprecationWarning: Call to deprecated create function FieldDescriptor(). Note: Create unlinked descriptors is going to go away. Please use get/find descriptors from generated code or query the descriptor_pool.\n",
      "    _descriptor.FieldDescriptor(\n",
      "\n",
      "../../../../../../.pyenv/versions/lewagon/lib/python3.10/site-packages/tensorflow/core/framework/tensor_pb2.py:68\n",
      "  /Users/francoisgirard/.pyenv/versions/lewagon/lib/python3.10/site-packages/tensorflow/core/framework/tensor_pb2.py:68: DeprecationWarning: Call to deprecated create function FieldDescriptor(). Note: Create unlinked descriptors is going to go away. Please use get/find descriptors from generated code or query the descriptor_pool.\n",
      "    _descriptor.FieldDescriptor(\n",
      "\n",
      "../../../../../../.pyenv/versions/lewagon/lib/python3.10/site-packages/tensorflow/core/framework/tensor_pb2.py:75\n",
      "  /Users/francoisgirard/.pyenv/versions/lewagon/lib/python3.10/site-packages/tensorflow/core/framework/tensor_pb2.py:75: DeprecationWarning: Call to deprecated create function FieldDescriptor(). Note: Create unlinked descriptors is going to go away. Please use get/find descriptors from generated code or query the descriptor_pool.\n",
      "    _descriptor.FieldDescriptor(\n",
      "\n",
      "../../../../../../.pyenv/versions/lewagon/lib/python3.10/site-packages/tensorflow/core/framework/tensor_pb2.py:82\n",
      "  /Users/francoisgirard/.pyenv/versions/lewagon/lib/python3.10/site-packages/tensorflow/core/framework/tensor_pb2.py:82: DeprecationWarning: Call to deprecated create function FieldDescriptor(). Note: Create unlinked descriptors is going to go away. Please use get/find descriptors from generated code or query the descriptor_pool.\n",
      "    _descriptor.FieldDescriptor(\n",
      "\n",
      "../../../../../../.pyenv/versions/lewagon/lib/python3.10/site-packages/tensorflow/core/framework/tensor_pb2.py:89\n",
      "  /Users/francoisgirard/.pyenv/versions/lewagon/lib/python3.10/site-packages/tensorflow/core/framework/tensor_pb2.py:89: DeprecationWarning: Call to deprecated create function FieldDescriptor(). Note: Create unlinked descriptors is going to go away. Please use get/find descriptors from generated code or query the descriptor_pool.\n",
      "    _descriptor.FieldDescriptor(\n",
      "\n",
      "../../../../../../.pyenv/versions/lewagon/lib/python3.10/site-packages/tensorflow/core/framework/tensor_pb2.py:96\n",
      "  /Users/francoisgirard/.pyenv/versions/lewagon/lib/python3.10/site-packages/tensorflow/core/framework/tensor_pb2.py:96: DeprecationWarning: Call to deprecated create function FieldDescriptor(). Note: Create unlinked descriptors is going to go away. Please use get/find descriptors from generated code or query the descriptor_pool.\n",
      "    _descriptor.FieldDescriptor(\n",
      "\n",
      "../../../../../../.pyenv/versions/lewagon/lib/python3.10/site-packages/tensorflow/core/framework/tensor_pb2.py:103\n",
      "  /Users/francoisgirard/.pyenv/versions/lewagon/lib/python3.10/site-packages/tensorflow/core/framework/tensor_pb2.py:103: DeprecationWarning: Call to deprecated create function FieldDescriptor(). Note: Create unlinked descriptors is going to go away. Please use get/find descriptors from generated code or query the descriptor_pool.\n",
      "    _descriptor.FieldDescriptor(\n",
      "\n",
      "../../../../../../.pyenv/versions/lewagon/lib/python3.10/site-packages/tensorflow/core/framework/tensor_pb2.py:110\n",
      "  /Users/francoisgirard/.pyenv/versions/lewagon/lib/python3.10/site-packages/tensorflow/core/framework/tensor_pb2.py:110: DeprecationWarning: Call to deprecated create function FieldDescriptor(). Note: Create unlinked descriptors is going to go away. Please use get/find descriptors from generated code or query the descriptor_pool.\n",
      "    _descriptor.FieldDescriptor(\n",
      "\n",
      "../../../../../../.pyenv/versions/lewagon/lib/python3.10/site-packages/tensorflow/core/framework/tensor_pb2.py:117\n",
      "  /Users/francoisgirard/.pyenv/versions/lewagon/lib/python3.10/site-packages/tensorflow/core/framework/tensor_pb2.py:117: DeprecationWarning: Call to deprecated create function FieldDescriptor(). Note: Create unlinked descriptors is going to go away. Please use get/find descriptors from generated code or query the descriptor_pool.\n",
      "    _descriptor.FieldDescriptor(\n",
      "\n",
      "../../../../../../.pyenv/versions/lewagon/lib/python3.10/site-packages/tensorflow/core/framework/tensor_pb2.py:124\n",
      "  /Users/francoisgirard/.pyenv/versions/lewagon/lib/python3.10/site-packages/tensorflow/core/framework/tensor_pb2.py:124: DeprecationWarning: Call to deprecated create function FieldDescriptor(). Note: Create unlinked descriptors is going to go away. Please use get/find descriptors from generated code or query the descriptor_pool.\n",
      "    _descriptor.FieldDescriptor(\n",
      "\n",
      "../../../../../../.pyenv/versions/lewagon/lib/python3.10/site-packages/tensorflow/core/framework/tensor_pb2.py:131\n",
      "  /Users/francoisgirard/.pyenv/versions/lewagon/lib/python3.10/site-packages/tensorflow/core/framework/tensor_pb2.py:131: DeprecationWarning: Call to deprecated create function FieldDescriptor(). Note: Create unlinked descriptors is going to go away. Please use get/find descriptors from generated code or query the descriptor_pool.\n",
      "    _descriptor.FieldDescriptor(\n",
      "\n",
      "../../../../../../.pyenv/versions/lewagon/lib/python3.10/site-packages/tensorflow/core/framework/tensor_pb2.py:138\n",
      "  /Users/francoisgirard/.pyenv/versions/lewagon/lib/python3.10/site-packages/tensorflow/core/framework/tensor_pb2.py:138: DeprecationWarning: Call to deprecated create function FieldDescriptor(). Note: Create unlinked descriptors is going to go away. Please use get/find descriptors from generated code or query the descriptor_pool.\n",
      "    _descriptor.FieldDescriptor(\n",
      "\n",
      "../../../../../../.pyenv/versions/lewagon/lib/python3.10/site-packages/tensorflow/core/framework/tensor_pb2.py:145\n",
      "  /Users/francoisgirard/.pyenv/versions/lewagon/lib/python3.10/site-packages/tensorflow/core/framework/tensor_pb2.py:145: DeprecationWarning: Call to deprecated create function FieldDescriptor(). Note: Create unlinked descriptors is going to go away. Please use get/find descriptors from generated code or query the descriptor_pool.\n",
      "    _descriptor.FieldDescriptor(\n",
      "\n",
      "../../../../../../.pyenv/versions/lewagon/lib/python3.10/site-packages/tensorflow/core/framework/tensor_pb2.py:152\n",
      "  /Users/francoisgirard/.pyenv/versions/lewagon/lib/python3.10/site-packages/tensorflow/core/framework/tensor_pb2.py:152: DeprecationWarning: Call to deprecated create function FieldDescriptor(). Note: Create unlinked descriptors is going to go away. Please use get/find descriptors from generated code or query the descriptor_pool.\n",
      "    _descriptor.FieldDescriptor(\n",
      "\n",
      "../../../../../../.pyenv/versions/lewagon/lib/python3.10/site-packages/tensorflow/core/framework/tensor_pb2.py:33\n",
      "  /Users/francoisgirard/.pyenv/versions/lewagon/lib/python3.10/site-packages/tensorflow/core/framework/tensor_pb2.py:33: DeprecationWarning: Call to deprecated create function Descriptor(). Note: Create unlinked descriptors is going to go away. Please use get/find descriptors from generated code or query the descriptor_pool.\n",
      "    _TENSORPROTO = _descriptor.Descriptor(\n",
      "\n",
      "../../../../../../.pyenv/versions/lewagon/lib/python3.10/site-packages/tensorflow/core/framework/tensor_pb2.py:183\n",
      "  /Users/francoisgirard/.pyenv/versions/lewagon/lib/python3.10/site-packages/tensorflow/core/framework/tensor_pb2.py:183: DeprecationWarning: Call to deprecated create function FieldDescriptor(). Note: Create unlinked descriptors is going to go away. Please use get/find descriptors from generated code or query the descriptor_pool.\n",
      "    _descriptor.FieldDescriptor(\n",
      "\n",
      "../../../../../../.pyenv/versions/lewagon/lib/python3.10/site-packages/tensorflow/core/framework/tensor_pb2.py:190\n",
      "  /Users/francoisgirard/.pyenv/versions/lewagon/lib/python3.10/site-packages/tensorflow/core/framework/tensor_pb2.py:190: DeprecationWarning: Call to deprecated create function FieldDescriptor(). Note: Create unlinked descriptors is going to go away. Please use get/find descriptors from generated code or query the descriptor_pool.\n",
      "    _descriptor.FieldDescriptor(\n",
      "\n",
      "../../../../../../.pyenv/versions/lewagon/lib/python3.10/site-packages/tensorflow/core/framework/tensor_pb2.py:197\n",
      "  /Users/francoisgirard/.pyenv/versions/lewagon/lib/python3.10/site-packages/tensorflow/core/framework/tensor_pb2.py:197: DeprecationWarning: Call to deprecated create function FieldDescriptor(). Note: Create unlinked descriptors is going to go away. Please use get/find descriptors from generated code or query the descriptor_pool.\n",
      "    _descriptor.FieldDescriptor(\n",
      "\n",
      "../../../../../../.pyenv/versions/lewagon/lib/python3.10/site-packages/tensorflow/core/framework/tensor_pb2.py:176\n",
      "  /Users/francoisgirard/.pyenv/versions/lewagon/lib/python3.10/site-packages/tensorflow/core/framework/tensor_pb2.py:176: DeprecationWarning: Call to deprecated create function Descriptor(). Note: Create unlinked descriptors is going to go away. Please use get/find descriptors from generated code or query the descriptor_pool.\n",
      "    _VARIANTTENSORDATAPROTO = _descriptor.Descriptor(\n",
      "\n",
      "../../../../../../.pyenv/versions/lewagon/lib/python3.10/site-packages/tensorflow/core/framework/attr_value_pb2.py:21\n",
      "  /Users/francoisgirard/.pyenv/versions/lewagon/lib/python3.10/site-packages/tensorflow/core/framework/attr_value_pb2.py:21: DeprecationWarning: Call to deprecated create function FileDescriptor(). Note: Create unlinked descriptors is going to go away. Please use get/find descriptors from generated code or query the descriptor_pool.\n",
      "    DESCRIPTOR = _descriptor.FileDescriptor(\n",
      "\n",
      "../../../../../../.pyenv/versions/lewagon/lib/python3.10/site-packages/tensorflow/core/framework/attr_value_pb2.py:40\n",
      "  /Users/francoisgirard/.pyenv/versions/lewagon/lib/python3.10/site-packages/tensorflow/core/framework/attr_value_pb2.py:40: DeprecationWarning: Call to deprecated create function FieldDescriptor(). Note: Create unlinked descriptors is going to go away. Please use get/find descriptors from generated code or query the descriptor_pool.\n",
      "    _descriptor.FieldDescriptor(\n",
      "\n",
      "../../../../../../.pyenv/versions/lewagon/lib/python3.10/site-packages/tensorflow/core/framework/attr_value_pb2.py:47\n",
      "  /Users/francoisgirard/.pyenv/versions/lewagon/lib/python3.10/site-packages/tensorflow/core/framework/attr_value_pb2.py:47: DeprecationWarning: Call to deprecated create function FieldDescriptor(). Note: Create unlinked descriptors is going to go away. Please use get/find descriptors from generated code or query the descriptor_pool.\n",
      "    _descriptor.FieldDescriptor(\n",
      "\n",
      "../../../../../../.pyenv/versions/lewagon/lib/python3.10/site-packages/tensorflow/core/framework/attr_value_pb2.py:54\n",
      "  /Users/francoisgirard/.pyenv/versions/lewagon/lib/python3.10/site-packages/tensorflow/core/framework/attr_value_pb2.py:54: DeprecationWarning: Call to deprecated create function FieldDescriptor(). Note: Create unlinked descriptors is going to go away. Please use get/find descriptors from generated code or query the descriptor_pool.\n",
      "    _descriptor.FieldDescriptor(\n",
      "\n",
      "../../../../../../.pyenv/versions/lewagon/lib/python3.10/site-packages/tensorflow/core/framework/attr_value_pb2.py:61\n",
      "  /Users/francoisgirard/.pyenv/versions/lewagon/lib/python3.10/site-packages/tensorflow/core/framework/attr_value_pb2.py:61: DeprecationWarning: Call to deprecated create function FieldDescriptor(). Note: Create unlinked descriptors is going to go away. Please use get/find descriptors from generated code or query the descriptor_pool.\n",
      "    _descriptor.FieldDescriptor(\n",
      "\n",
      "../../../../../../.pyenv/versions/lewagon/lib/python3.10/site-packages/tensorflow/core/framework/attr_value_pb2.py:68\n",
      "  /Users/francoisgirard/.pyenv/versions/lewagon/lib/python3.10/site-packages/tensorflow/core/framework/attr_value_pb2.py:68: DeprecationWarning: Call to deprecated create function FieldDescriptor(). Note: Create unlinked descriptors is going to go away. Please use get/find descriptors from generated code or query the descriptor_pool.\n",
      "    _descriptor.FieldDescriptor(\n",
      "\n",
      "../../../../../../.pyenv/versions/lewagon/lib/python3.10/site-packages/tensorflow/core/framework/attr_value_pb2.py:75\n",
      "  /Users/francoisgirard/.pyenv/versions/lewagon/lib/python3.10/site-packages/tensorflow/core/framework/attr_value_pb2.py:75: DeprecationWarning: Call to deprecated create function FieldDescriptor(). Note: Create unlinked descriptors is going to go away. Please use get/find descriptors from generated code or query the descriptor_pool.\n",
      "    _descriptor.FieldDescriptor(\n",
      "\n",
      "../../../../../../.pyenv/versions/lewagon/lib/python3.10/site-packages/tensorflow/core/framework/attr_value_pb2.py:82\n",
      "  /Users/francoisgirard/.pyenv/versions/lewagon/lib/python3.10/site-packages/tensorflow/core/framework/attr_value_pb2.py:82: DeprecationWarning: Call to deprecated create function FieldDescriptor(). Note: Create unlinked descriptors is going to go away. Please use get/find descriptors from generated code or query the descriptor_pool.\n",
      "    _descriptor.FieldDescriptor(\n",
      "\n",
      "-- Docs: https://docs.pytest.org/en/stable/how-to/capture-warnings.html\n",
      "\u001b[33m======================= \u001b[32m15 passed\u001b[0m, \u001b[33m\u001b[1m100 warnings\u001b[0m\u001b[33m in 5.58s\u001b[0m\u001b[33m =======================\u001b[0m\n",
      "\n",
      "\n",
      "💯 You can commit your code:\n",
      "\n",
      "\u001b[1;32mgit\u001b[39m add tests/tensors.pickle\n",
      "\n",
      "\u001b[32mgit\u001b[39m commit -m \u001b[33m'Completed tensors step'\u001b[39m\n",
      "\n",
      "\u001b[32mgit\u001b[39m push origin master\n",
      "\n"
     ]
    }
   ],
   "source": [
    "from nbresult import ChallengeResult\n",
    "\n",
    "result = ChallengeResult('tensors',\n",
    "                            a = a,\n",
    "                            b = b,\n",
    "                            c = c,\n",
    "                            d_shape = d.shape,\n",
    "                            e = e,\n",
    "                            f = f, \n",
    "                            g = g,\n",
    "                            h = h,\n",
    "                            i = i,\n",
    "                            j = j,\n",
    "                            k = k,\n",
    "                            l = l,\n",
    "                            m = m,\n",
    "                            n = n, \n",
    "                            o_shape = o.shape\n",
    ")\n",
    "\n",
    "result.write()\n",
    "print(result.check())"
   ]
  },
  {
   "cell_type": "markdown",
   "id": "bc9c064f",
   "metadata": {},
   "source": [
    "### Great work 🔥\n",
    "\n",
    "Now it's time to get stuck into some modelling!"
   ]
  }
 ],
 "metadata": {
  "kernelspec": {
   "display_name": "Python 3 (ipykernel)",
   "language": "python",
   "name": "python3"
  },
  "language_info": {
   "codemirror_mode": {
    "name": "ipython",
    "version": 3
   },
   "file_extension": ".py",
   "mimetype": "text/x-python",
   "name": "python",
   "nbconvert_exporter": "python",
   "pygments_lexer": "ipython3",
   "version": "3.10.6"
  },
  "toc": {
   "base_numbering": 1,
   "nav_menu": {},
   "number_sections": true,
   "sideBar": true,
   "skip_h1_title": false,
   "title_cell": "Table of Contents",
   "title_sidebar": "Contents",
   "toc_cell": false,
   "toc_position": {},
   "toc_section_display": true,
   "toc_window_display": false
  }
 },
 "nbformat": 4,
 "nbformat_minor": 5
}
